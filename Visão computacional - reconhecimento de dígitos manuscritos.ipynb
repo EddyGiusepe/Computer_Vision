{
 "cells": [
  {
   "cell_type": "markdown",
   "metadata": {},
   "source": [
    "# **Ciência de Dados na Prática**\n",
    "\n",
    "### **Classificação de dígitos**\n",
    "\n",
    "Professor: Eduardo Rocha"
   ]
  },
  {
   "cell_type": "markdown",
   "metadata": {},
   "source": [
    "### <font color=\"red\">1°  Definindo um problema de classificação multiclasse (mais de $2$ classes)</font>\n",
    "\n",
    "Faremos previsões de dígitos escritos à mão no **Dataset** mnist. Esse é um exemplo de <font color=\"blue\">classificação multiclasse</font>, pois nosso modelo terá que prever uma entre $10$ saídas possíveis para cada registro (dígitos de $0$ a $9$). \n",
    "\n",
    "Os Dados estão no scikit learn: [sklearn.datasets.load_digits](https://scikit-learn.org/stable/modules/generated/sklearn.datasets.load_digits.html)"
   ]
  },
  {
   "cell_type": "markdown",
   "metadata": {},
   "source": [
    "### <font color=\"red\">2°  Carregando e explorando o Dataset</font>"
   ]
  },
  {
   "cell_type": "code",
   "execution_count": 1,
   "metadata": {},
   "outputs": [],
   "source": [
    "# Importando os pacotes\n",
    "\n",
    "import numpy as np\n",
    "from sklearn import datasets\n",
    "from sklearn.metrics import confusion_matrix\n",
    "from sklearn.model_selection import train_test_split\n",
    "from sklearn.neighbors import KNeighborsClassifier\n",
    "from sklearn.metrics import classification_report\n",
    "\n",
    "import matplotlib.pyplot as plt\n",
    "%matplotlib inline\n",
    "\n",
    "import warnings \n",
    "warnings.filterwarnings('ignore')\n",
    "\n"
   ]
  },
  {
   "cell_type": "code",
   "execution_count": 2,
   "metadata": {},
   "outputs": [],
   "source": [
    "# Carregamos o Dataset\n",
    "digitos = datasets.load_digits()"
   ]
  },
  {
   "cell_type": "code",
   "execution_count": 3,
   "metadata": {},
   "outputs": [
    {
     "data": {
      "text/plain": [
       "array([[ 0.,  0.,  5., ...,  0.,  0.,  0.],\n",
       "       [ 0.,  0.,  0., ..., 10.,  0.,  0.],\n",
       "       [ 0.,  0.,  0., ..., 16.,  9.,  0.],\n",
       "       ...,\n",
       "       [ 0.,  0.,  1., ...,  6.,  0.,  0.],\n",
       "       [ 0.,  0.,  2., ..., 12.,  0.,  0.],\n",
       "       [ 0.,  0., 10., ..., 12.,  1.,  0.]])"
      ]
     },
     "execution_count": 3,
     "metadata": {},
     "output_type": "execute_result"
    }
   ],
   "source": [
    "digitos.data"
   ]
  },
  {
   "cell_type": "code",
   "execution_count": 4,
   "metadata": {},
   "outputs": [
    {
     "data": {
      "text/plain": [
       "array([0, 1, 2, ..., 8, 9, 8])"
      ]
     },
     "execution_count": 4,
     "metadata": {},
     "output_type": "execute_result"
    }
   ],
   "source": [
    "digitos.target"
   ]
  },
  {
   "cell_type": "code",
   "execution_count": 5,
   "metadata": {},
   "outputs": [
    {
     "data": {
      "text/plain": [
       "array([0, 1, 2, 3, 4, 5, 6, 7, 8, 9])"
      ]
     },
     "execution_count": 5,
     "metadata": {},
     "output_type": "execute_result"
    }
   ],
   "source": [
    "digitos.target_names"
   ]
  },
  {
   "cell_type": "code",
   "execution_count": 6,
   "metadata": {},
   "outputs": [
    {
     "data": {
      "image/png": "[encoded data removed]",
      "text/plain": [
       "<Figure size 432x288 with 10 Axes>"
      ]
     },
     "metadata": {
      "needs_background": "light"
     },
     "output_type": "display_data"
    }
   ],
   "source": [
    "# Vizualizando algumas imagens e labels\n",
    "\n",
    "images_e_labels = list(zip(digitos.images, digitos.target))\n",
    "for index, (image, label) in enumerate(images_e_labels[:10]):\n",
    "    plt.subplot(2, 6, index + 1)\n",
    "    plt.axis('off')\n",
    "    plt.imshow(image, cmap = plt.cm.gray_r, interpolation='nearest')\n",
    "    plt.title('Label: %i' % label)\n",
    "    \n"
   ]
  },
  {
   "cell_type": "code",
   "execution_count": 7,
   "metadata": {},
   "outputs": [],
   "source": [
    "# Gera x e y\n",
    "\n",
    "x = digitos.data\n",
    "y = digitos.target\n"
   ]
  },
  {
   "cell_type": "code",
   "execution_count": 8,
   "metadata": {},
   "outputs": [
    {
     "name": "stdout",
     "output_type": "stream",
     "text": [
      "(1797, 64) (1797,)\n"
     ]
    }
   ],
   "source": [
    "# Formato de x e y\n",
    "# Cada uma das linhas representa os pixeis de 1 dígito\n",
    "print(x.shape, y.shape)\n"
   ]
  },
  {
   "cell_type": "markdown",
   "metadata": {},
   "source": [
    "### <font color=\"red\">3°  Pré-processamento e normalização</font>"
   ]
  },
  {
   "cell_type": "code",
   "execution_count": 9,
   "metadata": {},
   "outputs": [],
   "source": [
    "# Divisão em Dados de treino e de teste\n",
    "\n",
    "x_treino, testeData, y_treino, testeLabels = train_test_split(x, y, test_size=0.30, random_state=101)"
   ]
  },
  {
   "cell_type": "markdown",
   "metadata": {},
   "source": [
    "<font color=\"red\">OBS</font>: Vamos fazer validações durante o treinamento, pois se o treinamento durasse $5$ horas, a gente já verifica a performance do modelo nesse período, e não somente depois das $5$ horas ... A gente está ganhando tempo...   "
   ]
  },
  {
   "cell_type": "code",
   "execution_count": 10,
   "metadata": {},
   "outputs": [],
   "source": [
    "# Divisão dos Dados de treino em Dados de treino e Dados de validação\n",
    "\n",
    "treinoData, validData, treinolabels, validLabels = train_test_split(x_treino, y_treino, test_size=0.1, random_state=84)\n"
   ]
  },
  {
   "cell_type": "code",
   "execution_count": 11,
   "metadata": {},
   "outputs": [
    {
     "name": "stdout",
     "output_type": "stream",
     "text": [
      "Exemplo de treino: 1131\n",
      "Exemplo de validação: 126\n",
      "Exemplo de teste: 540\n"
     ]
    }
   ],
   "source": [
    "# Imprimindo o número de exemplos (observações) em cada Dataset\n",
    "\n",
    "print(\"Exemplo de treino: {}\".format(len(treinolabels)))\n",
    "print(\"Exemplo de validação: {}\".format(len(validLabels)))\n",
    "print(\"Exemplo de teste: {}\".format(len(testeLabels)))\n",
    "\n"
   ]
  },
  {
   "cell_type": "code",
   "execution_count": 12,
   "metadata": {},
   "outputs": [],
   "source": [
    "# Normalização dos Dados pela média (não é a única forma de fazer (Essa é uma proposta somente)\n",
    "# Cálculo da média do Dataset de treino - calcular a média dos valores de entrada x\n",
    "# Nesse caso vamos normaliizar somente as variáveis de entrada x. \n",
    "# Existem casos nos quais se faz necessário normalizar o Target \"y\"\n",
    "\n",
    "x_norm = np.mean(x, axis = 0)\n",
    "\n",
    "\n",
    "# Normalização dos Dados de treino e de teste\n",
    "x_treino_norm = treinoData - x_norm\n",
    "x_valid_norm = validData - x_norm\n",
    "x_teste_norm = testeData - x_norm\n",
    "\n",
    "\n",
    "# ELE FEZ UMA NORMALIZAÇÃO MUITO SIMPLES !!!\n",
    "\n",
    "\n",
    "# NOTA: Aqui o algoritmo KNN precisa que os Dados dejam normalizados  "
   ]
  },
  {
   "cell_type": "code",
   "execution_count": 13,
   "metadata": {},
   "outputs": [
    {
     "name": "stdout",
     "output_type": "stream",
     "text": [
      "(1131, 64) (126, 64) (540, 64)\n"
     ]
    }
   ],
   "source": [
    "# Shape dos Dataset\n",
    "print(x_treino_norm.shape, x_valid_norm.shape, x_teste_norm.shape)\n"
   ]
  },
  {
   "cell_type": "markdown",
   "metadata": {},
   "source": [
    "### <font color=\"red\">4°  Construíndo a máquina preditiva</font>\n",
    "\n",
    "Testando o melhor valor de K - Etapa de validação em treinamento"
   ]
  },
  {
   "cell_type": "code",
   "execution_count": 14,
   "metadata": {},
   "outputs": [],
   "source": [
    "# Range de valores de k que iremos testar\n",
    "# Usar valores ímpares para evitar empate na votação do valor de k\n",
    "\n",
    "kVals = range(1, 30, 2)\n"
   ]
  },
  {
   "cell_type": "code",
   "execution_count": 15,
   "metadata": {},
   "outputs": [],
   "source": [
    "# Lista vazia para receber as acurácias \n",
    "\n",
    "acuracias = []"
   ]
  },
  {
   "cell_type": "code",
   "execution_count": 16,
   "metadata": {},
   "outputs": [
    {
     "name": "stdout",
     "output_type": "stream",
     "text": [
      "Com valor k = 1, a acurácia é = 99.21%\n",
      "Com valor k = 3, a acurácia é = 100.00%\n",
      "Com valor k = 5, a acurácia é = 100.00%\n",
      "Com valor k = 7, a acurácia é = 99.21%\n",
      "Com valor k = 9, a acurácia é = 98.41%\n",
      "Com valor k = 11, a acurácia é = 98.41%\n",
      "Com valor k = 13, a acurácia é = 97.62%\n",
      "Com valor k = 15, a acurácia é = 97.62%\n",
      "Com valor k = 17, a acurácia é = 97.62%\n",
      "Com valor k = 19, a acurácia é = 97.62%\n",
      "Com valor k = 21, a acurácia é = 97.62%\n",
      "Com valor k = 23, a acurácia é = 97.62%\n",
      "Com valor k = 25, a acurácia é = 96.83%\n",
      "Com valor k = 27, a acurácia é = 96.83%\n",
      "Com valor k = 29, a acurácia é = 96.83%\n"
     ]
    }
   ],
   "source": [
    "# Loop em todos os valores de K para testar cada um deles\n",
    "\n",
    "for k in kVals:\n",
    "    \n",
    "    # Treinando o modelo KNN com cada valor de K\n",
    "    modeloKNN = KNeighborsClassifier(n_neighbors=k)\n",
    "    modeloKNN.fit(treinoData, treinolabels)\n",
    "    \n",
    "    \n",
    "    \n",
    "    # Validação - Avaliando o modelo e atualizando a lista de acurácias durante o treinamento\n",
    "    score = modeloKNN.score(validData, validLabels)\n",
    "    print(\"Com valor k = %d, a acurácia é = %0.2f%%\" % (k, score*100))\n",
    "    \n",
    "    \n",
    "    \n",
    "    acuracias.append(score)\n",
    "\n"
   ]
  },
  {
   "cell_type": "code",
   "execution_count": 17,
   "metadata": {},
   "outputs": [
    {
     "name": "stdout",
     "output_type": "stream",
     "text": [
      "O valor de k = 3 alcançou a mais alta acurácia do 100.00% nos Dados de validação!\n"
     ]
    }
   ],
   "source": [
    "# Por meio da validação em treinamento, posso nítidamente interromper o\n",
    "# treinamento a partir de k=9, pois está só diminuindo a acurácia\n",
    "\n",
    "# Obtendo o valor de k que apresentou a maior acurácia \n",
    "i = np.argmax(acuracias)\n",
    "print(\"O valor de k = %d alcançou a mais alta acurácia do %0.2f%% nos Dados de validação!\" % (kVals[i], acuracias[i]*100))\n"
   ]
  },
  {
   "cell_type": "markdown",
   "metadata": {},
   "source": [
    "##### Construção e treinamento da máquina com <font color=\"blue\">KNN</font>"
   ]
  },
  {
   "cell_type": "code",
   "execution_count": 18,
   "metadata": {},
   "outputs": [],
   "source": [
    "# Criando a versão final do modelo com o maior valor de k\n",
    "# Poderia colocar o valor de k=3 diretamente. Mas para deixar mais automatizado, colocamos o valor \"i\"\n",
    "\n",
    "modelofinal = KNeighborsClassifier(n_neighbors = kVals[i])\n"
   ]
  },
  {
   "cell_type": "code",
   "execution_count": 19,
   "metadata": {},
   "outputs": [
    {
     "data": {
      "text/plain": [
       "KNeighborsClassifier(algorithm='auto', leaf_size=30, metric='minkowski',\n",
       "                     metric_params=None, n_jobs=None, n_neighbors=3, p=2,\n",
       "                     weights='uniform')"
      ]
     },
     "execution_count": 19,
     "metadata": {},
     "output_type": "execute_result"
    }
   ],
   "source": [
    "# Treinamento do modelo\n",
    "modelofinal.fit(treinoData, treinolabels)\n",
    "\n"
   ]
  },
  {
   "cell_type": "markdown",
   "metadata": {},
   "source": [
    "<font color=\"red\">OBS</font>: Lembre-se que você pode alterar os hyperparâmetros do modelo. Experimente alterar o \"<font color=\"blue\">metric = 'euclidean'</font>\".\n",
    "\n",
    "Revisar: [link da internet](http://www.sakurai.dev.br/classificacao-usando-knn/)\n"
   ]
  },
  {
   "cell_type": "markdown",
   "metadata": {},
   "source": [
    "### <font color=\"red\">5°  Avaliação da máquina preditiva - previsões com Dados de teste</font>"
   ]
  },
  {
   "cell_type": "code",
   "execution_count": 20,
   "metadata": {},
   "outputs": [],
   "source": [
    "# Previsões com dados de teste\n",
    "\n",
    "predictions = modelofinal.predict(testeData)\n"
   ]
  },
  {
   "cell_type": "code",
   "execution_count": 21,
   "metadata": {},
   "outputs": [
    {
     "name": "stdout",
     "output_type": "stream",
     "text": [
      "\u001b[0;34m Avaliação do modelo nos Dados de teste\n",
      "\n",
      "              precision    recall  f1-score   support\n",
      "\n",
      "           0       1.00      1.00      1.00        53\n",
      "           1       0.95      0.98      0.96        55\n",
      "           2       1.00      1.00      1.00        49\n",
      "           3       0.98      1.00      0.99        54\n",
      "           4       1.00      0.98      0.99        61\n",
      "           5       0.98      1.00      0.99        59\n",
      "           6       1.00      0.98      0.99        46\n",
      "           7       1.00      1.00      1.00        56\n",
      "           8       1.00      0.95      0.97        59\n",
      "           9       0.98      1.00      0.99        48\n",
      "\n",
      "    accuracy                           0.99       540\n",
      "   macro avg       0.99      0.99      0.99       540\n",
      "weighted avg       0.99      0.99      0.99       540\n",
      "\n"
     ]
    }
   ],
   "source": [
    "# Performande do modelo nos Dados de teste\n",
    "\n",
    "print(\"\\033[0;34m Avaliação do modelo nos Dados de teste\")\n",
    "print(\"\")\n",
    "print(classification_report(testeLabels, predictions))\n",
    "\n",
    "# NOTA:\n",
    "# Neste análise observamos apenas no \"f1-score\" para poder avaliar o\n",
    "# performance de nosso modelo\n"
   ]
  },
  {
   "cell_type": "code",
   "execution_count": 22,
   "metadata": {},
   "outputs": [
    {
     "name": "stdout",
     "output_type": "stream",
     "text": [
      "\u001b[0;35m Confusion Matrix\n",
      "\n",
      "\n",
      "[[53  0  0  0  0  0  0  0  0  0]\n",
      " [ 0 54  0  0  0  1  0  0  0  0]\n",
      " [ 0  0 49  0  0  0  0  0  0  0]\n",
      " [ 0  0  0 54  0  0  0  0  0  0]\n",
      " [ 0  0  0  0 60  0  0  0  0  1]\n",
      " [ 0  0  0  0  0 59  0  0  0  0]\n",
      " [ 0  1  0  0  0  0 45  0  0  0]\n",
      " [ 0  0  0  0  0  0  0 56  0  0]\n",
      " [ 0  2  0  1  0  0  0  0 56  0]\n",
      " [ 0  0  0  0  0  0  0  0  0 48]]\n"
     ]
    }
   ],
   "source": [
    "# Confusion Matrix do modelo final\n",
    "\n",
    "print(\"\\033[0;35m Confusion Matrix\")\n",
    "print(\"\")\n",
    "print(\"\")\n",
    "print(confusion_matrix(testeLabels, predictions))\n",
    "\n",
    "# INTERPRETAÇÃO\n",
    "# A nossa matrix tem essa ordem nas filas e colunas (de \"0\" a \"9\")\n",
    "# Fora da diagonal principal são os erros de nosso modelo\n",
    "# Na diagonal principal estão nossos acertos\n",
    "\n",
    "#                          Gabarito (diígitos)\n",
    "#                                |\n",
    "#                                v                     \n",
    "#                                0\n",
    "#                                1\n",
    "#                                2\n",
    "#                                3\n",
    "#                                4\n",
    "#                                5\n",
    "#                                6\n",
    "#                                7\n",
    "#                                8\n",
    "#                                9\n",
    "#   predict--> 0 1 2 3 4 5 6 7 8 9\n",
    "#   (dígitos)\n",
    "\n",
    "# Quando meu dígito é zero, meu algoritmo preveu que o dígito também é zero (53 vezes)\n",
    "\n",
    "# Quando meu dígito é 1, meu algoritmo preveu que o dígito é um 54 vezes, mas erro duas vezes (na vertical: \"1\" e \"2\")  \n",
    "\n",
    "# "
   ]
  },
  {
   "cell_type": "code",
   "execution_count": 28,
   "metadata": {},
   "outputs": [
    {
     "name": "stdout",
     "output_type": "stream",
     "text": [
      "Eu acredito que esse dígito seja: 0\n"
     ]
    },
    {
     "data": {
      "image/png": "[encoded data removed]",
      "text/plain": [
       "<Figure size 432x288 with 1 Axes>"
      ]
     },
     "metadata": {
      "needs_background": "light"
     },
     "output_type": "display_data"
    },
    {
     "name": "stdout",
     "output_type": "stream",
     "text": [
      "Eu acredito que esse dígito seja: 3\n"
     ]
    },
    {
     "data": {
      "image/png": "[encoded data removed]",
      "text/plain": [
       "<Figure size 432x288 with 1 Axes>"
      ]
     },
     "metadata": {
      "needs_background": "light"
     },
     "output_type": "display_data"
    },
    {
     "name": "stdout",
     "output_type": "stream",
     "text": [
      "Eu acredito que esse dígito seja: 2\n"
     ]
    },
    {
     "data": {
      "image/png": "[encoded data removed]",
      "text/plain": [
       "<Figure size 432x288 with 1 Axes>"
      ]
     },
     "metadata": {
      "needs_background": "light"
     },
     "output_type": "display_data"
    },
    {
     "name": "stdout",
     "output_type": "stream",
     "text": [
      "Eu acredito que esse dígito seja: 4\n"
     ]
    },
    {
     "data": {
      "image/png": "[encoded data removed]",
      "text/plain": [
       "<Figure size 432x288 with 1 Axes>"
      ]
     },
     "metadata": {
      "needs_background": "light"
     },
     "output_type": "display_data"
    },
    {
     "name": "stdout",
     "output_type": "stream",
     "text": [
      "Eu acredito que esse dígito seja: 2\n"
     ]
    },
    {
     "data": {
      "image/png": "[encoded data removed]",
      "text/plain": [
       "<Figure size 432x288 with 1 Axes>"
      ]
     },
     "metadata": {
      "needs_background": "light"
     },
     "output_type": "display_data"
    }
   ],
   "source": [
    "# Fazendo previsões com o modelo treinado usando dados de teste\n",
    "# Para isso, vou buscar 5 valores randômicos de base de teste para fazer novas previsões \n",
    "\n",
    "\n",
    "for i in np.random.randint(0, high=len(testeLabels), size=(5,)):\n",
    "    \n",
    "    \n",
    "    # obtém uma imagem e faz a previsão\n",
    "    image = testeData[i]\n",
    "    prediction = modelofinal.predict([image])[0]\n",
    "    \n",
    "    \n",
    "    # Mostra a previsões\n",
    "    imgdata = np.array(image, dtype = 'float')\n",
    "    pixels = imgdata.reshape((8, 8))\n",
    "    plt.imshow(pixels, cmap='gray')\n",
    "    plt.annotate(prediction, (3, 3), bbox={'facecolor':'white'}, fontsize=16)\n",
    "    print(\"Eu acredito que esse dígito seja: {}\".format(prediction))\n",
    "    plt.show()\n",
    "\n",
    "\n"
   ]
  },
  {
   "cell_type": "markdown",
   "metadata": {},
   "source": [
    "### <font color=\"red\">6°  Previsões em novos Dados com o Modelo Treinado</font>\n",
    "\n",
    "Só para lembrar: **nosso modelo foi criado para prever dígitos**. Logo, não serve para prever valor de casas, nem fraude de cartão de crédito, ...cada modelo com seu propósito, ok?"
   ]
  },
  {
   "cell_type": "code",
   "execution_count": 29,
   "metadata": {},
   "outputs": [],
   "source": [
    "# Definindo um novo dígito (Dados de entrada)\n",
    "# Preciso entregar para o modelo um DÍGITO. Ele é um conjunto de 64 pixels (lembra?)\n",
    "\n",
    "novoDigito = [0., 0., 0., 8., 15., 1., 0., 0., 0., 0., 0., 12., 14.,\n",
    "              0., 0., 0., 0., 0., 3., 16., 7., 0., 0., 0., 0., 0.,\n",
    "              6., 16., 2., 0., 0., 0., 0., 0., 7., 16., 16., 13., 5.,\n",
    "              0., 0., 0., 15., 16., 9., 9., 14., 0., 0., 0., 3., 14.,\n",
    "              9., 2., 16., 2., 0., 0., 0., 7., 15., 16., 11., 0.]\n",
    "\n",
    "\n"
   ]
  },
  {
   "cell_type": "code",
   "execution_count": 31,
   "metadata": {},
   "outputs": [],
   "source": [
    "# Normalizando o novo dígito - precisa fazer esse pre-processamento pois\n",
    "# o modelo aprendeu com Dados normalizados... ok?\n",
    "\n",
    "novoDigito_norm = novoDigito - x_norm\n"
   ]
  },
  {
   "cell_type": "code",
   "execution_count": 32,
   "metadata": {},
   "outputs": [],
   "source": [
    "# Fazendo a previsão com o modelo treinado\n",
    "\n",
    "novaPrevisao = modelofinal.predict([novoDigito_norm])\n"
   ]
  },
  {
   "cell_type": "code",
   "execution_count": 33,
   "metadata": {},
   "outputs": [
    {
     "name": "stdout",
     "output_type": "stream",
     "text": [
      "Eu acredito que esse dígito seja: [6]\n"
     ]
    },
    {
     "data": {
      "image/png": "[encoded data removed]",
      "text/plain": [
       "<Figure size 432x288 with 1 Axes>"
      ]
     },
     "metadata": {
      "needs_background": "light"
     },
     "output_type": "display_data"
    }
   ],
   "source": [
    "# Previsão do modelo\n",
    "\n",
    "imgdata = np.array(novoDigito, dtype = 'float')\n",
    "pixels = imgdata.reshape((8, 8))\n",
    "plt.imshow(pixels, cmap='gray')\n",
    "plt.annotate(novaPrevisao, (3, 3), bbox={'facecolor':'white'}, fontsize=16)\n",
    "print(\"Eu acredito que esse dígito seja: {}\".format(novaPrevisao))\n",
    "plt.show()\n",
    "\n"
   ]
  },
  {
   "cell_type": "markdown",
   "metadata": {},
   "source": [
    "**Fazemos outra previsão**"
   ]
  },
  {
   "cell_type": "code",
   "execution_count": 34,
   "metadata": {},
   "outputs": [],
   "source": [
    "# Definindo um novo dígito (Dados de entrada)\n",
    "\n",
    "novoDigito = [0., 0., 0., 1., 11., 9., 0., 0., 0., 0., 0., 7., 16.,\n",
    "              13., 0., 0., 0., 0., 4., 14., 16., 9., 0., 0., 0., 10.,\n",
    "              16., 11., 16., 8., 0., 0., 0., 0., 0., 3., 16., 6., 0.,\n",
    "              0., 0., 0., 0., 3., 16., 8., 0., 0., 0., 0., 0., 5.,\n",
    "              16., 10., 0., 0., 0., 0., 0., 2., 14., 6., 0., 0.]\n"
   ]
  },
  {
   "cell_type": "code",
   "execution_count": 35,
   "metadata": {},
   "outputs": [],
   "source": [
    "# Normalizando o novo dígito\n",
    "\n",
    "novoDigito_norm = novoDigito - x_norm\n"
   ]
  },
  {
   "cell_type": "code",
   "execution_count": 36,
   "metadata": {},
   "outputs": [],
   "source": [
    "# Fazendo a previsão com o modelo treinado\n",
    "\n",
    "novaPrevisao = modelofinal.predict([novoDigito_norm])\n"
   ]
  },
  {
   "cell_type": "code",
   "execution_count": 38,
   "metadata": {},
   "outputs": [
    {
     "name": "stdout",
     "output_type": "stream",
     "text": [
      "Eu acredito que esse dígito seja: [1]\n"
     ]
    },
    {
     "data": {
      "image/png": "[encoded data removed]",
      "text/plain": [
       "<Figure size 432x288 with 1 Axes>"
      ]
     },
     "metadata": {
      "needs_background": "light"
     },
     "output_type": "display_data"
    }
   ],
   "source": [
    "# Previsão do modelo\n",
    "\n",
    "imgdata = np.array(novoDigito, dtype = 'float')\n",
    "pixels = imgdata.reshape((8, 8))\n",
    "plt.imshow(pixels, cmap='gray')\n",
    "plt.annotate(novaPrevisao, (3, 3), bbox={'facecolor':'white'}, fontsize=16)\n",
    "print(\"Eu acredito que esse dígito seja: {}\".format(novaPrevisao))\n",
    "plt.show()\n",
    "\n"
   ]
  }
 ],
 "metadata": {
  "kernelspec": {
   "display_name": "Python 3",
   "language": "python",
   "name": "python3"
  },
  "language_info": {
   "codemirror_mode": {
    "name": "ipython",
    "version": 3
   },
   "file_extension": ".py",
   "mimetype": "text/x-python",
   "name": "python",
   "nbconvert_exporter": "python",
   "pygments_lexer": "ipython3",
   "version": "3.7.4"
  }
 },
 "nbformat": 4,
 "nbformat_minor": 2
}
